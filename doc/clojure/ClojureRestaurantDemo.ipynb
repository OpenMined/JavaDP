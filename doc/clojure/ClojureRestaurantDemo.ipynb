{
 "cells": [
  {
   "cell_type": "markdown",
   "metadata": {},
   "source": [
    "# Restaurant Demo in Clojure\n",
    "\n",
    "This is a demo for [differential-privacy-clj](https://github.com/OpenMined/clojure-dp), a wrapper for [differential privacy library by Google](https://github.com/google/differential-privacy). The contents of this demo are ported from a differential privacy library [example](https://github.com/google/differential-privacy/tree/123626ff1060d9884a16f04b0d743a72bb08607e/examples/java).\n",
    "\n",
    "Imagine a fictional restaurant owner named Alice who would like to share\n",
    "business statistics with her visitors. Alice knows when visitors enter the\n",
    "restaurant and how much time and money they spend there. To ensure that\n",
    "visitors' privacy is preserved, Alice decides to use the Differential Privacy\n",
    "library.\n",
    "\n",
    "Please run this cell first to provide all dependencies and namespaces:"
   ]
  },
  {
   "cell_type": "code",
   "execution_count": null,
   "metadata": {},
   "outputs": [],
   "source": [
    "%classpath add mvn com.google.protobuf protobuf-java 3.11.4\n",
    "%classpath add mvn org.apache.commons commons-math3 3.6.1\n",
    "%classpath add mvn com.google.guava guava 28.2-jre\n",
    "%classpath add mvn org.clojure data.csv 1.0.0\n",
    "%classpath add mvn incanter incanter 1.9.3\n",
    "\n",
    "\n",
    ";; Download two jars from a server (temporary solution before release).\n",
    "%classpath add mvn commons-io commons-io 2.6\n",
    "(import (org.apache.commons.io FileUtils)\n",
    "        (java.io File)\n",
    "        (java.net URL))\n",
    "\n",
    "(def dpUrl \"http://replomancer.net/OpenMined/libdifferentialprivacy-1.0.jar\")\n",
    "(def dpFile (str (System/getProperty \"java.io.tmpdir\") \"/differentialprivacy-1.0.jar\"))\n",
    "(FileUtils/copyURLToFile (URL. dpUrl) (File. dpFile))\n",
    "%classpath add dynamic dpFile\n",
    "\n",
    "(def dp2Url \"http://replomancer.net/OpenMined/differential-privacy-clj-0.2.1-SNAPSHOT.jar\")\n",
    "(def dp2File (str (System/getProperty \"java.io.tmpdir\") \"/differential-privacy-clj-0.2.1-SNAPSHOT.jar\"))\n",
    "(FileUtils/copyURLToFile (URL. dp2Url) (File. dp2File))\n",
    "%classpath add dynamic dp2File\n",
    "\n",
    "\n",
    "(require '[clojure.data.csv :as csv]\n",
    "         '[clojure.java.io :as io]\n",
    "         '[differential-privacy-clj.core :as dp]\n",
    "         '[incanter.charts :refer [bar-chart add-categories]])"
   ]
  },
  {
   "cell_type": "markdown",
   "metadata": {},
   "source": [
    "Here we define the default value for epsilon or the privacy budget we spend on each computation."
   ]
  },
  {
   "cell_type": "code",
   "execution_count": null,
   "metadata": {},
   "outputs": [],
   "source": [
    "(def default-epsilon (Math/log 3))"
   ]
  },
  {
   "cell_type": "markdown",
   "metadata": {},
   "source": [
    "Later in this notebook we use this function for mapping over dictionary values:"
   ]
  },
  {
   "cell_type": "code",
   "execution_count": null,
   "metadata": {},
   "outputs": [],
   "source": [
    "(defn fmap [f m]\n",
    "  (into (empty m) (for [[k v] m] [k (f v)])))\n",
    "\n",
    ";; Examples:\n",
    ";;\n",
    ";; (fmap inc {:a 1 :b 5}))\n",
    ";; => {:a 2, :b 6}\n",
    ";;\n",
    ";; (fmap str {:a 1 :b true :c []})\n",
    ";; => {:a \"1\" :b \"true\" :c \"[]\"})\n",
    ";;\n",
    ";; (fmap count {:a [] :b [:x :x :x] :c '(\"x\" \"x\")}))\n",
    ";; => {:a 0, :b 3, :c 2}"
   ]
  },
  {
   "cell_type": "markdown",
   "metadata": {},
   "source": [
    "## Count visits by hour of day\n",
    "\n",
    "In this example Alice wants to share this information with potential clients in\n",
    "order to let them know the busiest times in the restaurant. For this, we will\n",
    "count how many visitors enter the restaurant at every hour of a particular day.\n",
    "For simplicity, assume that a visitor comes to the restaurant at most once a\n",
    "day. In other words, a visitor is present at most once in the whole dataset.\n",
    "\n",
    "Visit data for a single day is stored in the `example_data/restaurant_demo/day_data.csv` file. It includes\n",
    "the visitor’s ID, the visit duration (in minutes), and the money spent at the\n",
    "restaurant."
   ]
  },
  {
   "cell_type": "code",
   "execution_count": null,
   "metadata": {},
   "outputs": [],
   "source": [
    "(import (java.time LocalTime)\n",
    "        (java.time.format DateTimeFormatter DateTimeFormatterBuilder)\n",
    "        (java.util Locale))\n",
    "\n",
    "\n",
    ";; this is a time formatter for timestamps in the CSVs\n",
    "(def time-formatter\n",
    "  (-> (DateTimeFormatterBuilder.)\n",
    "      (.parseCaseInsensitive)\n",
    "      (.appendPattern \"h:mm:ss a\")\n",
    "      (.toFormatter Locale/ENGLISH)))\n",
    "\n",
    "\n",
    "(def day-visits-data\n",
    "  (with-open [reader (io/reader \"../example_data/restaurant_demo/day_data.csv\")]\n",
    "    (let [data (rest (csv/read-csv reader))]  ;; skip the first line (header)\n",
    "      (mapv (fn [[visitor-id time-entered minutes-spent money-spent]]\n",
    "                [visitor-id\n",
    "                 (LocalTime/parse (clojure.string/lower-case time-entered)\n",
    "                                  time-formatter)\n",
    "                 (Integer. minutes-spent)\n",
    "                 (Integer. money-spent)])\n",
    "                data))))\n",
    "\n",
    ";; Uncomment below if you'd like to see the data\n",
    ";; (take 5 day-visits-data)"
   ]
  },
  {
   "cell_type": "markdown",
   "metadata": {},
   "source": [
    "Run the code below to calculate the number of visitors that entered the restaurant\n",
    "every hour of the day. The calculation is done twice: for non-private values\n",
    "and for differentially private ones.\n",
    "    "
   ]
  },
  {
   "cell_type": "code",
   "execution_count": null,
   "metadata": {},
   "outputs": [
    {
     "data": {
      "image/png": "[encoded data removed]"
     },
     "execution_count": null,
     "metadata": {},
     "output_type": "execute_result"
    }
   ],
   "source": [
    ";; Produce a sequence of hours from day-visits-data\n",
    ";; e.g. '(9 11 10 10 11 12 13 12 12 12 14 15 16 18 17 18 17 20 19).\n",
    "(def visit-hours (map (fn [[_ time-entered _ _]] (.getHour time-entered))\n",
    "                      day-visits-data))\n",
    "\n",
    ";; Compute non-private frequencies of visits per hour\n",
    ";; e.g. {9 13, 10 18, 11 19, 12 39, 13 61, 14 21, ...}\n",
    "(def visit-per-hour-frequencies\n",
    "  (->> visit-hours\n",
    "       frequencies\n",
    "       (into (sorted-map))))\n",
    "\n",
    ";; Replace true counts with differentially private values.\n",
    "(def dp-visit-per-hour-frequencies\n",
    "  (fmap #(dp/count % :max-partitions-contributed 1 :epsilon default-epsilon)\n",
    "        visit-per-hour-frequencies))\n",
    "\n",
    ";; Build and show the bar chart.\n",
    "(-> (bar-chart (keys visit-per-hour-frequencies)\n",
    "               (vals visit-per-hour-frequencies)\n",
    "               :title \"Count of visits per hour\"\n",
    "               :series-label \"non-private count\"\n",
    "               :x-label \"hour\" :y-label \"number of visits\"\n",
    "               :legend true)\n",
    "    (add-categories (keys dp-visit-per-hour-frequencies)\n",
    "                    (vals dp-visit-per-hour-frequencies)\n",
    "                    :series-label \"private count\")\n",
    "    (.createBufferedImage 800 600))"
   ]
  },
  {
   "cell_type": "markdown",
   "metadata": {},
   "source": [
    "You should see a bar chart with the results above. The red (left) bars represent the\n",
    "counts without anonymization while blue (right) bars correspond to the private\n",
    "(or *anonymized*) counts. You can see that the private values slightly differ\n",
    "from the actual ones but the overall trend is preserved. For example, you can\n",
    "clearly see that the restaurant is more busy during lunch and dinner time.\n",
    "\n",
    "Note that Differential Privacy involves adding *random noise* to the actual\n",
    "data, so your results can be slightly different each time you run the code.\n",
    "\n",
    "## Partitions and contributions\n",
    "\n",
    "We say that the resulting aggregated data is split into *partitions*. The bar\n",
    "chart for the private and non-private counts each have 15 partitions, one for\n",
    "each entry hour.\n",
    "\n",
    "More generally, a single partition represents a subset of aggregated data\n",
    "corresponding to a given value of the aggregation criterion. Graphically, a\n",
    "single partition is represented as a bar on the aggregated bar chart.\n",
    "\n",
    "We say that a visitor *contributes* to a given partition if their data matches\n",
    "the partition criterion. For example, if a visitor enters between 8 AM and 9 AM,\n",
    "they *contribute* to the *8 AM partition*.\n",
    "\n",
    "Recall that in the the example above, a visitor can enter the restaurant only\n",
    "once per day. This implies three *contribution bounds*:\n",
    "\n",
    "*   *Maximum partitions contributed*: to how many partitions can a visitor\n",
    "    contribute? In our example, a visitor can contribute up to one partition. In\n",
    "    other words, there is at most one time-slot when a visitor with a given id\n",
    "    can enter the restaurant.\n",
    "*   *Maximum contributed value*: what is the maximum value that can be\n",
    "    contributed by a visitor to a partition? In our example, we count the number\n",
    "    of visits, so the maximum contributed value is simply *1*.\n",
    "*   *Maximum contributions per partition*: how many times can a visitor\n",
    "    contribute to a partition? In our example, a visitor can contribute to a\n",
    "    partition at most once. In other words, a visitor can enter the restaurant\n",
    "    only once at a given hour.\n",
    "\n",
    "Why is this important? Differential Privacy adjusts the amount of noise to mask\n",
    "contributions of each visitor. More contributions require more noise.\n",
    "\n",
    "Next, we will demonstrate how to use the library in scenarios where:\n",
    "\n",
    "*   Visitors can contribute to multiple partitions.\n",
    "*   Contributed values can be greater than *1*.\n",
    "*   Visitors can contribute to a partition multiple times.\n",
    "\n",
    "## Count visits by day of week\n",
    "\n",
    "The previous example made some over-simplifying assumptions. Now, let’s have a\n",
    "look at the use-case where visitors can contribute to multiple partitions.\n",
    "\n",
    "Imagine Alice decides to let visitors know which days are the busiest at her\n",
    "restaurant. For this, she calculates how many people visit the restaurant every\n",
    "day of the week. For simplicity, let’s assume a visitor enters the restaurant at\n",
    "most once a day but multiple times a week.\n",
    "\n",
    "Visit data for a week is stored in the `example_data/restaurant_demo/week_data.csv` file."
   ]
  },
  {
   "cell_type": "code",
   "execution_count": null,
   "metadata": {},
   "outputs": [],
   "source": [
    "(def week-visits-data\n",
    "  (with-open [reader (io/reader \"../example_data/restaurant_demo/week_data.csv\")]\n",
    "    (let [data (rest (csv/read-csv reader))]  ;; skip the first line (header)\n",
    "      (mapv (fn [[visitor-id time-entered minutes-spent money-spent weekday-nr]]\n",
    "                [visitor-id\n",
    "                 (LocalTime/parse (clojure.string/lower-case time-entered) time-formatter)\n",
    "                 (Integer. minutes-spent)\n",
    "                 (Double. money-spent)\n",
    "                 (Integer. weekday-nr)])\n",
    "                data))))\n",
    "\n",
    "(defn get-visitor-id [[visitor-id _ _ _ _]] visitor-id)\n",
    "(defn get-money-spent [[_ _ _ money-spent _]] money-spent)\n",
    "(defn get-weekday [[_ _ _ _ weekday-nr]] weekday-nr)\n",
    "\n",
    "(def all-week-days [\"Monday\" \"Tuesday\" \"Wednesday\" \"Thursday\" \"Friday\" \"Saturday\" \"Sunday\"])\n",
    "(def week-days-cnt 7)\n",
    "\n",
    ";; Uncomment below if you'd like to see the data\n",
    ";; (take 5 week-visits-data)"
   ]
  },
  {
   "cell_type": "markdown",
   "metadata": {},
   "source": [
    "Run the code below to see the visits per weekday bar chart:"
   ]
  },
  {
   "cell_type": "code",
   "execution_count": null,
   "metadata": {},
   "outputs": [
    {
     "data": {
      "image/png": "[encoded data removed]"
     },
     "execution_count": null,
     "metadata": {},
     "output_type": "execute_result"
    }
   ],
   "source": [
    ";; Compute non-private frequencies of visits per weekday\n",
    ";; e.g. {1 300, 2 300, 3 400, 4 400, 5 450, 6 500, 7 500}\n",
    "(def visit-day-frequencies\n",
    "    (->> week-visits-data\n",
    "         (map get-weekday)\n",
    "         frequencies\n",
    "         (into (sorted-map))))\n",
    "\n",
    ";; Replace true values with differentially private ones.\n",
    "(def dp-visit-day-frequencies \n",
    "    (fmap #(dp/count %\n",
    "                     :max-partitions-contributed week-days-cnt\n",
    "                     :epsilon default-epsilon)\n",
    "          visit-day-frequencies))\n",
    "\n",
    ";; Build and show the bar chart.\n",
    "(-> (bar-chart all-week-days\n",
    "               (vals visit-day-frequencies)\n",
    "               :title \"Count of visits per weekday\"\n",
    "               :series-label \"non-private count\"\n",
    "               :x-label \"weekday\"\n",
    "               :y-label \"number of visits\"\n",
    "               :legend true)\n",
    "    (add-categories all-week-days\n",
    "                    (vals dp-visit-day-frequencies)\n",
    "                    :series-label \"private count\")\n",
    "    (.createBufferedImage 800 400))"
   ]
  },
  {
   "cell_type": "markdown",
   "metadata": {},
   "source": [
    "As you can see, the private values slightly differ from the actual ones but the\n",
    "overall trend is preserved.\n",
    "\n",
    "Now, let’s take a closer look at the technical details. Speaking in terms of\n",
    "*partitions* and *contributions*, the resulting bar chart has 7 partitions: one\n",
    "for each day of the week. A visitor may enter the restaurant once a day and\n",
    "hence contribute to a partition at most once. A visitor may enter the restaurant\n",
    "several times a week and hence contribute to up to 7 partitions. The code below\n",
    "uses `count` to calculate the differentially private count of visits for a\n",
    "single day."
   ]
  },
  {
   "cell_type": "code",
   "execution_count": null,
   "metadata": {},
   "outputs": [
    {
     "name": "stdout",
     "output_type": "stream",
     "text": [
      "Monday visits\n",
      "Non-private count:\t 286\n",
      "DP count:\t\t 287\n",
      "Total week visits in the processed dataset (non-private count):  2693\n"
     ]
    },
    {
     "data": {
      "text/plain": [
       "null"
      ]
     },
     "execution_count": null,
     "metadata": {},
     "output_type": "execute_result"
    }
   ],
   "source": [
    ";; An estimate of how many times on average a visitor may enter the restaurant per week.\n",
    "(def example-max-visits-per-week 3)\n",
    "\n",
    ";; Data about visits needs some preprocessing because of\n",
    ";; the example-max-visits-per-week bounding.\n",
    ";; You don't have to understand this function now.\n",
    ";; It will be explained in a moment.\n",
    "(def example-visit-day-frequencies\n",
    "  (let [;; produce a dictionary of visit weekdays:\n",
    "        ;;\n",
    "        ;; {visitor-id1 '(1 3)\n",
    "        ;;  visitor-id2 '(4 6 2)\n",
    "        ;;  ,,, }\n",
    "        ;; \n",
    "        ;; where no visitor has more than example-max-visits-per-week\n",
    "        ;; visit weekdays.\n",
    "        visitor-weekdays (->> week-visits-data\n",
    "                              (group-by get-visitor-id)\n",
    "                              (fmap #(->> %\n",
    "                                          (map get-weekday)\n",
    "                                          set\n",
    "                                          shuffle\n",
    "                                          (take example-max-visits-per-week))))]\n",
    "    (->> week-visits-data\n",
    "         ;; discard exceeding visits \n",
    "         (filter #(some #{(get-weekday %)}\n",
    "                        (get visitor-weekdays (get-visitor-id %))))\n",
    "\n",
    "         ;; the rest of the computation is same as before\n",
    "         (map get-weekday)\n",
    "         frequencies\n",
    "         (into (sorted-map)))))\n",
    "\n",
    "\n",
    "\n",
    ";; Number of visits on Monday.\n",
    "(def example-monday-visits-count\n",
    "  (example-visit-day-frequencies 1))\n",
    "\n",
    ";; Compute DP Count.\n",
    "(def example-monday-visits-dp-count\n",
    "  (dp/count example-monday-visits-count\n",
    "            :epsilon default-epsilon\n",
    "            ;; Each visitor may enter the restaurant up to MAX_VISITS_PER_WEEK times per week.\n",
    "            ;; Hence, each visitor may contribute up to MAX_VISITS_PER_WEEK daily counts.\n",
    "            :max-partitions-contributed example-max-visits-per-week))\n",
    "\n",
    "\n",
    "(println \"Monday visits\")\n",
    "(println \"Non-private count:\\t\" example-monday-visits-count)\n",
    "(println \"DP count:\\t\\t\" example-monday-visits-dp-count)\n",
    "\n",
    "(println \"Total week visits in the processed dataset (non-private count): \"\n",
    "         (reduce + (vals example-visit-day-frequencies)))"
   ]
  },
  {
   "cell_type": "markdown",
   "metadata": {},
   "source": [
    "You can rerun the previous cell to observe the result changing randomly. Note that even non-private count for Monday is now random, but the non-private count of total visits during the week is not (explanation below)."
   ]
  },
  {
   "cell_type": "markdown",
   "metadata": {},
   "source": [
    "### Bounding the number of contributed partitions\n",
    "\n",
    "The parameter `:max-partitions-contributed` defines the maximum number of\n",
    "partitions a visitor may contribute to. You might notice that the value of\n",
    "`:max-partitions-contributed` in our example is 3 instead of 7. Why is that?\n",
    "Differential Privacy adds some amount of random noise to hide contributions of\n",
    "an individual. The more contributions an individual has, the larger the noise\n",
    "is. This affects the utility of the data. In order to preserve the data utility,\n",
    "we made an approximate estimate of how many times a week a person may visit a\n",
    "restaurant on average, and assumed that the value is around 3 instead of scaling\n",
    "the noise by the factor of 7.\n",
    "\n",
    "We also pre-processed the input data and discarded all exceeding visits. The\n",
    "preprocessing is done inside the `example-visit-day-frequencies` definition.\n",
    "It is important to keep in mind that the library allows you to specify maximum\n",
    "amount of contributions, but doesn't validate that it is respected.\n",
    "\n",
    "It is not deterministic which of the exceeding visits we discard during preprocessing,\n",
    "which also makes the non-private count of Monday visits random. If a visitor\n",
    "has more than `example-max-visits-per-week` visits and one of those is on Monday\n",
    "we may or may not discard the Monday visit, but the total number of visits\n",
    "during the week is constant (in our dataset we will always have \n",
    "`example-max-visits-per-week` visits of the frequent visitor).\n",
    "\n",
    "\n",
    "## Sum-up revenue per day of the week\n",
    "\n",
    "The previous example demonstrates how the contributed partitions are bounded.\n",
    "Now, we will demonstrate how individual contributions are clamped. Imagine Alice\n",
    "decides to calculate the sum of the restaurant revenue per week day in a\n",
    "differentially private way. For this she needs to sum up the visitors’ daily\n",
    "spending at the restaurant. For simplicity, let’s assume a visitor enters the\n",
    "restaurant at most once a day but multiple times a week.\n",
    "\n",
    "We use the same visit data for a week as before (`example_data/restaurant_demo/week_data.csv` file).\n",
    "\n",
    "The calculation is done twice: for non-private values and for differentially private ones."
   ]
  },
  {
   "cell_type": "code",
   "execution_count": null,
   "metadata": {},
   "outputs": [
    {
     "data": {
      "image/png": "[encoded data removed]"
     },
     "execution_count": null,
     "metadata": {},
     "output_type": "execute_result"
    }
   ],
   "source": [
    ";; Number of weekly visits for a visitor is limited to 4.\n",
    ";; All exceeding visits will be discarded by the caller\n",
    ";; (library user) beforehand.\n",
    "(def max-visits-per-week 4)\n",
    "\n",
    ";; Minimum amount of money we expect a visitor to spend on a single visit.\n",
    "(def min-euros-spent 0)\n",
    "\n",
    ";; Maximum amount of money we expect a visitor to spend on a single visit.\n",
    "(def max-euros-spent 50)\n",
    "\n",
    "\n",
    ";; Produce a dictionary of weekday spendings\n",
    ";; e.g. {1 [10.0 20.0] 2 [5.00 46.0]\n",
    ";;       3 [] 4 [22.0 13.0 22.0]\n",
    ";;       5 [1.0] 6 [33.0 12.0 45.0]\n",
    ";;       7 [49.0 12.0 44.0 12.0]}\n",
    "(def day-revenue (->> week-visits-data\n",
    "                      (group-by get-weekday)\n",
    "                      (fmap #(map get-money-spent %))))\n",
    "\n",
    ";; Compute non-private sums of day revenue (true values).\n",
    "(def sum-revenue-per-day\n",
    "  (fmap #(reduce + %)\n",
    "        day-revenue))\n",
    "\n",
    ";; Replace true values with differentially private ones.\n",
    "(def dp-sum-revenue-per-day\n",
    "  (fmap #(dp/bounded-sum %\n",
    "                         :lower min-euros-spent\n",
    "                         :upper max-euros-spent\n",
    "                         :max-partitions-contributed max-visits-per-week\n",
    "                         :epsilon default-epsilon)\n",
    "        day-revenue))\n",
    "\n",
    "\n",
    ";; Build and show the bar chart.\n",
    "(-> (bar-chart all-week-days\n",
    "               (vals sum-revenue-per-day)\n",
    "               :title \"Sum revenue per weekday\"\n",
    "               :series-label \"non-private count\"\n",
    "               :x-label \"weekday\" :y-label \"number of visits\"\n",
    "               :legend true)\n",
    "    (add-categories all-week-days (vals dp-sum-revenue-per-day) :series-label \"private count\")\n",
    "    (.createBufferedImage 800 400))\n"
   ]
  },
  {
   "cell_type": "markdown",
   "metadata": {},
   "source": [
    "\n",
    "### Clamping individual contributions\n",
    "\n",
    "The usage of `:max-partitions-contributed` in `bounded-sum` is similar to its usage\n",
    "in `count`, which is explained in the previous example. This section focuses on\n",
    "the *lower* and *upper* bounds. The parameters `:lower` and `:upper` of\n",
    "`bounded-sum` define the *contribution caps*. Every input value will be\n",
    "automatically clamped to the specified bounds. This is needed for calculating\n",
    "the sensitivity of the aggregation, and to scale the noise that will be added to\n",
    "the sum accordingly.\n",
    "\n",
    "**Choosing bounds**.\n",
    "\n",
    "The lower and upper bounds affect the utility of the sum in two potentially\n",
    "opposing ways: reducing the added noise, and preserving the utility. On the one\n",
    "hand, the added noise is proportional to the maximum of the absolute values of\n",
    "the bounds. Thus, the closer the bounds are to zero, the less noise is added. On\n",
    "the other hand, setting the lower and upper bound close to zero may mean that\n",
    "the input values are clamped more aggressively, which can decrease utility as\n",
    "well."
   ]
  },
  {
   "cell_type": "code",
   "execution_count": null,
   "metadata": {},
   "outputs": [],
   "source": []
  }
 ],
 "metadata": {
  "kernelspec": {
   "display_name": "Clojure",
   "language": "clojure",
   "name": "clojure"
  },
  "language_info": {
   "codemirror_mode": "Clojure",
   "file_extension": ".clj",
   "mimetype": "text/x-clojure",
   "name": "Clojure",
   "nbconverter_exporter": "",
   "version": "1.9.0"
  },
  "toc": {
   "base_numbering": 1,
   "nav_menu": {},
   "number_sections": false,
   "sideBar": false,
   "skip_h1_title": false,
   "title_cell": "Table of Contents",
   "title_sidebar": "Contents",
   "toc_cell": false,
   "toc_position": {},
   "toc_section_display": false,
   "toc_window_display": false
  }
 },
 "nbformat": 4,
 "nbformat_minor": 4
}
