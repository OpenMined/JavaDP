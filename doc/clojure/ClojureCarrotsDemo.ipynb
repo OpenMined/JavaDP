{
 "cells": [
  {
   "cell_type": "markdown",
   "metadata": {},
   "source": [
    "# Differential Privacy demo in Clojure\n",
    "\n",
    "This notebook shows how to use differential privacy algorithms available in [differential-privacy-clj](https://github.com/OpenMined/differential-privacy-clj) (a wrapper for [libdifferentialprivacy](https://github.com/google/differential-privacy)). See doc/README.md and doc/clojure/README.md if you can't make it run.\n",
    "\n",
    "\n",
    "The content of this notebook is based on [Animals and Carrots](https://github.com/google/differential-privacy/blob/e819e03a20f9d7b0a30f2547c00ba74065b3f549/examples/cc/report_the_carrots.cc) from Google's differential-privacy library."
   ]
  },
  {
   "cell_type": "markdown",
   "metadata": {},
   "source": [
    "This takes care of dependencies, classpath and libraries loading:"
   ]
  },
  {
   "cell_type": "code",
   "execution_count": 1,
   "metadata": {},
   "outputs": [
    {
     "data": {
      "application/vnd.jupyter.widget-view+json": {
       "model_id": "",
       "version_major": 2,
       "version_minor": 0
      },
      "method": "display_data"
     },
     "metadata": {},
     "output_type": "display_data"
    },
    {
     "data": {
      "application/vnd.jupyter.widget-view+json": {
       "model_id": "00e0f34c-691b-4cb0-a52f-2a149026afad",
       "version_major": 2,
       "version_minor": 0
      },
      "method": "display_data"
     },
     "metadata": {},
     "output_type": "display_data"
    },
    {
     "data": {
      "application/vnd.jupyter.widget-view+json": {
       "model_id": "",
       "version_major": 2,
       "version_minor": 0
      },
      "method": "display_data"
     },
     "metadata": {},
     "output_type": "display_data"
    },
    {
     "data": {
      "application/vnd.jupyter.widget-view+json": {
       "model_id": "6225e5b3-f324-4f45-bec4-12fef9d279dd",
       "version_major": 2,
       "version_minor": 0
      },
      "method": "display_data"
     },
     "metadata": {},
     "output_type": "display_data"
    },
    {
     "data": {
      "application/vnd.jupyter.widget-view+json": {
       "model_id": "",
       "version_major": 2,
       "version_minor": 0
      },
      "method": "display_data"
     },
     "metadata": {},
     "output_type": "display_data"
    },
    {
     "data": {
      "application/vnd.jupyter.widget-view+json": {
       "model_id": "88b42c04-9793-4aaa-ac60-2b7164c073d2",
       "version_major": 2,
       "version_minor": 0
      },
      "method": "display_data"
     },
     "metadata": {},
     "output_type": "display_data"
    },
    {
     "data": {
      "application/vnd.jupyter.widget-view+json": {
       "model_id": "",
       "version_major": 2,
       "version_minor": 0
      },
      "method": "display_data"
     },
     "metadata": {},
     "output_type": "display_data"
    },
    {
     "data": {
      "application/vnd.jupyter.widget-view+json": {
       "model_id": "959263ab-e4d3-4b4d-b02d-98269765cd41",
       "version_major": 2,
       "version_minor": 0
      },
      "method": "display_data"
     },
     "metadata": {},
     "output_type": "display_data"
    },
    {
     "data": {
      "application/vnd.jupyter.widget-view+json": {
       "model_id": "",
       "version_major": 2,
       "version_minor": 0
      },
      "method": "display_data"
     },
     "metadata": {},
     "output_type": "display_data"
    },
    {
     "data": {
      "application/vnd.jupyter.widget-view+json": {
       "model_id": "e4a51a3c-7f7c-426c-996b-d2d1f726c925",
       "version_major": 2,
       "version_minor": 0
      },
      "method": "display_data"
     },
     "metadata": {},
     "output_type": "display_data"
    },
    {
     "data": {
      "application/vnd.jupyter.widget-view+json": {
       "model_id": "771bfc40-03f2-466e-9142-b8bcf1bd94bb",
       "version_major": 2,
       "version_minor": 0
      },
      "method": "display_data"
     },
     "metadata": {},
     "output_type": "display_data"
    },
    {
     "data": {
      "application/vnd.jupyter.widget-view+json": {
       "model_id": "f72521a2-01e7-48e5-92f2-9a3577e223aa",
       "version_major": 2,
       "version_minor": 0
      },
      "method": "display_data"
     },
     "metadata": {},
     "output_type": "display_data"
    },
    {
     "data": {
      "text/plain": [
       "null"
      ]
     },
     "execution_count": 1,
     "metadata": {},
     "output_type": "execute_result"
    }
   ],
   "source": [
    "%classpath add mvn com.google.protobuf protobuf-java 3.11.4\n",
    "%classpath add mvn org.apache.commons commons-math3 3.6.1\n",
    "%classpath add mvn com.google.guava guava 28.2-jre\n",
    "%classpath add mvn org.clojure data.csv 1.0.0\n",
    "\n",
    "\n",
    ";; Download two jars from a server (temporary solution before release)\n",
    "%classpath add mvn commons-io commons-io 2.6\n",
    "(import (org.apache.commons.io FileUtils)\n",
    "        (java.io File)\n",
    "        (java.net URL))\n",
    "\n",
    "(def dpUrl \"http://replomancer.net/OpenMined/libdifferentialprivacy-1.0.jar\")\n",
    "(def dpFile (str (System/getProperty \"java.io.tmpdir\") \"/differentialprivacy-1.0.jar\"))\n",
    "(FileUtils/copyURLToFile (URL. dpUrl) (File. dpFile))\n",
    "%classpath add dynamic dpFile\n",
    "\n",
    "(def dp2Url \"http://replomancer.net/OpenMined/differential-privacy-clj-0.2.0-SNAPSHOT.jar\")\n",
    "(def dp2File (str (System/getProperty \"java.io.tmpdir\") \"/differential-privacy-clj-0.2.0-SNAPSHOT.jar\"))\n",
    "(FileUtils/copyURLToFile (URL. dp2Url) (File. dp2File))\n",
    "%classpath add dynamic dp2File\n",
    "\n",
    "\n",
    "\n",
    "(require '[clojure.data.csv :as csv]\n",
    "         '[clojure.java.io :as io]\n",
    "         '[differential-privacy-clj.core :as dp])"
   ]
  },
  {
   "cell_type": "markdown",
   "metadata": {},
   "source": [
    "First we load the carrots data from a CSV file:"
   ]
  },
  {
   "cell_type": "code",
   "execution_count": 2,
   "metadata": {},
   "outputs": [
    {
     "data": {
      "text/plain": [
       "[1.0, 88.0, 35.0, 99.0, 69.0, 14.0, 77.0, 53.0, 94.0, 67.0, 92.0, 87.0, 70.0, 31.0, 14.0, 14.0, 61.0, 57.0, 68.0, 13.0, 21.0, 38.0, 92.0, 39.0, 46.0, 36.0, 23.0, 76.0, 8.0, 69.0, 35.0, 83.0, 40.0, 74.0, 17.0, 77.0, 52.0, 31.0, 14.0, 40.0, 46.0, 99.0, 44.0, 15.0, 89.0, 36.0, 98.0, 20.0, 56.0, 90.0, 5.0, 75.0, 56.0, 23.0, 49.0, 83.0, 55.0, 22.0, 7.0, 16.0, 91.0, 80.0, 21.0, 56.0, 10.0, 28.0, 29.0, 19.0, 73.0, 45.0, 5.0, 20.0, 28.0, 45.0, 39.0, 64.0, 22.0, 7.0, 30.0, 10.0, 48.0, 60.0, 73.0, 82.0, 96.0, 82.0, 38.0, 84.0, 39.0, 12.0, 75.0, 75.0, 45.0, 87.0, 91.0, 33.0, 40.0, 0.0, 67.0, 63.0, 16.0, 93.0, 19.0, 72.0, 46.0, 73.0, 98.0, 86.0, 3.0, 64.0, 94.0, 75.0, 2.0, 87.0, 74.0, 79.0, 56.0, 51.0, 77.0, 81.0, 42.0, 90.0, 96.0, 4.0, 58.0, 73.0, 27.0, 56.0, 80.0, 10.0, 35.0, 86.0, 100.0, 16.0, 7.0, 30.0, 84.0, 50.0, 86.0, 21.0, 15.0, 66.0, 75.0, 71.0, 56.0, 52.0, 99.0, 45.0, 84.0, 99.0, 51.0, 37.0, 96.0, 90.0, 92.0, 80.0, 96.0, 31.0, 39.0, 2.0, 68.0, 53.0, 47.0, 82.0, 51.0, 57.0, 10.0, 28.0, 91.0, 94.0, 51.0, 20.0, 87.0, 81.0, 36.0, 84.0, 54.0, 7.0, 42.0, 55.0, 60.0, 7.0]"
      ]
     },
     "execution_count": 2,
     "metadata": {},
     "output_type": "execute_result"
    }
   ],
   "source": [
    "(def carrots-consumption-data\n",
    "  (with-open [reader (io/reader \"../example_data/carrots_demo/animals_and_carrots.csv\")]\n",
    "    (let [data (csv/read-csv reader)]\n",
    "      (mapv (fn [[animal consumption]] (Double/parseDouble consumption)) data))))\n",
    "\n",
    "carrots-consumption-data"
   ]
  },
  {
   "cell_type": "markdown",
   "metadata": {},
   "source": [
    "# Farmer Fred"
   ]
  },
  {
   "cell_type": "markdown",
   "metadata": {},
   "source": [
    "It is a new day. Farmer Fred is ready to ask the animals about their carrot consumption.\n",
    "\n",
    "Here's the initial value of privacy budget (epsilon) with some other settings:"
   ]
  },
  {
   "cell_type": "code",
   "execution_count": 3,
   "metadata": {},
   "outputs": [
    {
     "data": {
      "text/plain": [
       "#'beaker_clojure_shell_fe4e9c81-6c23-4735-982c-a1f06d4f167f/max-partitions"
      ]
     },
     "execution_count": 3,
     "metadata": {},
     "output_type": "execute_result"
    }
   ],
   "source": [
    ";; We set a very high value here to improve accuracy on the small example dataset.\n",
    "(def privacy-budget (atom 4.0))\n",
    "\n",
    "(def query-epsilon 1.0)  ;; default amount of privacy budget we use per query\n",
    "\n",
    ";; Unlike the C++ library the Java version currently does not support\n",
    ";; privately inferred bounds so these have to be set manually:\n",
    "(def lower-bound 0.0)\n",
    "(def upper-bound 100.0)\n",
    "(def max-partitions 1)\n",
    "(def max-contributions 1)"
   ]
  },
  {
   "cell_type": "markdown",
   "metadata": {},
   "source": [
    "Farmer Fred asks the animals how many total carrots they have eaten. The animals know the true sum but report the differentially private sum to Farmer Fred. But first, they ensure that Farmer Fred still has privacy budget left."
   ]
  },
  {
   "cell_type": "code",
   "execution_count": 4,
   "metadata": {
    "scrolled": true
   },
   "outputs": [
    {
     "name": "stdout",
     "output_type": "stream",
     "text": [
      "\n",
      "Remaining privacy budget: 4.0\n",
      "True sum: 9649.0\n",
      "DP sum: 9566.95"
     ]
    },
    {
     "data": {
      "text/plain": [
       "null"
      ]
     },
     "execution_count": 4,
     "metadata": {},
     "output_type": "execute_result"
    }
   ],
   "source": [
    "(println \"\\nRemaining privacy budget:\" @privacy-budget)\n",
    "\n",
    "(if (> query-epsilon @privacy-budget)\n",
    "    (println \"Not enough privacy budget left!\")\n",
    "    (let [true-sum (reduce + carrots-consumption-data)\n",
    "          dp-sum (dp/bounded-sum carrots-consumption-data\n",
    "                                 :lower lower-bound\n",
    "                                 :upper upper-bound\n",
    "                                 :max-partitions-contributed max-partitions\n",
    "                                 :epsilon query-epsilon)]\n",
    "        (swap! privacy-budget - query-epsilon)\n",
    "        (println \"True sum:\" true-sum)\n",
    "        (printf \"DP sum: %.2f\" dp-sum)\n",
    "        (flush)))"
   ]
  },
  {
   "cell_type": "markdown",
   "metadata": {},
   "source": [
    "Farmer Fred catches on that the animals are giving him DP results.\n",
    "\n",
    "He asks for the mean number of carrots eaten, (TODO: \"but this time, he wants some additional accuracy information to build his intuition.\" requires features yet unavailable in Java)."
   ]
  },
  {
   "cell_type": "code",
   "execution_count": 5,
   "metadata": {},
   "outputs": [
    {
     "name": "stdout",
     "output_type": "stream",
     "text": [
      "\n",
      "Remaining privacy budget: 3.0\n",
      "True mean: 53.02\n",
      "DP mean: 51.87\n"
     ]
    },
    {
     "data": {
      "text/plain": [
       "null"
      ]
     },
     "execution_count": 5,
     "metadata": {},
     "output_type": "execute_result"
    }
   ],
   "source": [
    "(println \"\\nRemaining privacy budget:\" @privacy-budget)\n",
    "\n",
    "(if (> query-epsilon @privacy-budget)\n",
    "    (println \"Not enough privacy budget left!\")\n",
    "    (let [true-mean (/ (reduce + carrots-consumption-data) (count carrots-consumption-data))\n",
    "          dp-mean (dp/bounded-mean carrots-consumption-data\n",
    "                                   :lower lower-bound\n",
    "                                   :upper upper-bound\n",
    "                                   :max-contributions-per-partition max-contributions\n",
    "                                   :max-partitions-contributed max-partitions\n",
    "                                   :epsilon query-epsilon)]\n",
    "        (swap! privacy-budget - query-epsilon)\n",
    "        (printf \"True mean: %.2f\\n\" true-mean)\n",
    "        (printf \"DP mean: %.2f\\n\" dp-mean)\n",
    "        (flush)))\n"
   ]
  },
  {
   "cell_type": "markdown",
   "metadata": {},
   "source": [
    "Fred wonders how many gluttons are in his zoo. How many animals ate over 90 carrots?"
   ]
  },
  {
   "cell_type": "code",
   "execution_count": 6,
   "metadata": {},
   "outputs": [
    {
     "name": "stdout",
     "output_type": "stream",
     "text": [
      "\n",
      "Remaining privacy budget: 2.0\n",
      "True count: 21\n",
      "DP count:  22\n"
     ]
    },
    {
     "data": {
      "text/plain": [
       "null"
      ]
     },
     "execution_count": 6,
     "metadata": {},
     "output_type": "execute_result"
    }
   ],
   "source": [
    "(println \"\\nRemaining privacy budget:\" @privacy-budget)\n",
    "\n",
    "(if (> query-epsilon @privacy-budget)\n",
    "    (println \"Not enough privacy budget left!\")\n",
    "    (let [true-count (count (filter #(> % 90) carrots-consumption-data))\n",
    "          dp-count (dp/count (filter #(> % 90) carrots-consumption-data)\n",
    "                             :max-partitions-contributed max-partitions\n",
    "                             :epsilon query-epsilon)]\n",
    "        (swap! privacy-budget - query-epsilon)\n",
    "        (println \"True count:\" true-count)\n",
    "        (println \"DP count: \" dp-count)))"
   ]
  },
  {
   "cell_type": "markdown",
   "metadata": {},
   "source": [
    "If you rerun one of the previous cells a couple of times you will eventually see the privacy budget running out."
   ]
  },
  {
   "cell_type": "code",
   "execution_count": null,
   "metadata": {},
   "outputs": [],
   "source": []
  }
 ],
 "metadata": {
  "kernelspec": {
   "display_name": "Clojure",
   "language": "clojure",
   "name": "clojure"
  },
  "language_info": {
   "codemirror_mode": "Clojure",
   "file_extension": ".clj",
   "mimetype": "text/x-clojure",
   "name": "Clojure",
   "nbconverter_exporter": "",
   "version": "1.9.0"
  },
  "toc": {
   "base_numbering": 1,
   "nav_menu": {},
   "number_sections": false,
   "sideBar": false,
   "skip_h1_title": false,
   "title_cell": "Table of Contents",
   "title_sidebar": "Contents",
   "toc_cell": false,
   "toc_position": {},
   "toc_section_display": false,
   "toc_window_display": false
  }
 },
 "nbformat": 4,
 "nbformat_minor": 4
}
