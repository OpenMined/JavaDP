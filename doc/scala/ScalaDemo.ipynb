{
 "cells": [
  {
   "cell_type": "markdown",
   "metadata": {},
   "source": [
    "# Differential Privacy demo in Scala\n",
    "This notebook shows how Scala developers can use differential privacy algorithms available in libdifferentialprivacy. See notebooks/README.md if you can't make it run.\n",
    "\n",
    "The content of this notebook is based on [Animals and Carrots](https://github.com/google/differential-privacy/blob/e819e03a20f9d7b0a30f2547c00ba74065b3f549/examples/cc/report_the_carrots.cc) from Google's differential-privacy library."
   ]
  },
  {
   "cell_type": "markdown",
   "metadata": {},
   "source": [
    "This takes care of dependencies, classpath and imports:"
   ]
  },
  {
   "cell_type": "code",
   "execution_count": 1,
   "metadata": {},
   "outputs": [
    {
     "name": "stdout",
     "output_type": "stream",
     "text": [
      "Added new repo: mvnLocal\n"
     ]
    },
    {
     "data": {
      "application/vnd.jupyter.widget-view+json": {
       "model_id": "",
       "version_major": 2,
       "version_minor": 0
      },
      "method": "display_data"
     },
     "metadata": {},
     "output_type": "display_data"
    },
    {
     "data": {
      "application/vnd.jupyter.widget-view+json": {
       "model_id": "ac0c31cd-2041-4921-a573-e08a096eac1e",
       "version_major": 2,
       "version_minor": 0
      },
      "method": "display_data"
     },
     "metadata": {},
     "output_type": "display_data"
    },
    {
     "data": {
      "application/vnd.jupyter.widget-view+json": {
       "model_id": "",
       "version_major": 2,
       "version_minor": 0
      },
      "method": "display_data"
     },
     "metadata": {},
     "output_type": "display_data"
    },
    {
     "data": {
      "application/vnd.jupyter.widget-view+json": {
       "model_id": "bafc307e-4755-4a2f-975b-cf5f911cbb57",
       "version_major": 2,
       "version_minor": 0
      },
      "method": "display_data"
     },
     "metadata": {},
     "output_type": "display_data"
    },
    {
     "data": {
      "application/vnd.jupyter.widget-view+json": {
       "model_id": "",
       "version_major": 2,
       "version_minor": 0
      },
      "method": "display_data"
     },
     "metadata": {},
     "output_type": "display_data"
    },
    {
     "data": {
      "application/vnd.jupyter.widget-view+json": {
       "model_id": "f59e0835-67ab-4eff-8fdd-91fa891ba5b9",
       "version_major": 2,
       "version_minor": 0
      },
      "method": "display_data"
     },
     "metadata": {},
     "output_type": "display_data"
    },
    {
     "data": {
      "application/vnd.jupyter.widget-view+json": {
       "model_id": "",
       "version_major": 2,
       "version_minor": 0
      },
      "method": "display_data"
     },
     "metadata": {},
     "output_type": "display_data"
    },
    {
     "data": {
      "application/vnd.jupyter.widget-view+json": {
       "model_id": "a8202a03-65b0-4dd7-a4ab-f39f5b06a6ce",
       "version_major": 2,
       "version_minor": 0
      },
      "method": "display_data"
     },
     "metadata": {},
     "output_type": "display_data"
    },
    {
     "data": {
      "application/vnd.jupyter.widget-view+json": {
       "model_id": "",
       "version_major": 2,
       "version_minor": 0
      },
      "method": "display_data"
     },
     "metadata": {},
     "output_type": "display_data"
    },
    {
     "data": {
      "application/vnd.jupyter.widget-view+json": {
       "model_id": "19e433c1-5619-4feb-88ed-c90d47bfa283",
       "version_major": 2,
       "version_minor": 0
      },
      "method": "display_data"
     },
     "metadata": {},
     "output_type": "display_data"
    },
    {
     "data": {
      "text/plain": [
       "scala.collection.JavaConverters$@73aad03c"
      ]
     },
     "execution_count": 1,
     "metadata": {},
     "output_type": "execute_result"
    }
   ],
   "source": [
    "%classpath add mvn com.google.protobuf protobuf-java 3.11.4\n",
    "%classpath add mvn org.apache.commons commons-math3 3.6.1\n",
    "%classpath add mvn com.google.guava guava 28.2-jre\n",
    "%classpath add mvn com.github.tototoshi scala-csv 1.3.6\n",
    "\n",
    "// Download a jar from a server (temporary solution before release)\n",
    "%classpath add mvn commons-io commons-io 2.6\n",
    "import org.apache.commons.io.FileUtils\n",
    "import java.io.File\n",
    "import java.net.URL\n",
    "\n",
    "val dpUrl = \"http://replomancer.net/OpenMined/libdifferentialprivacy-1.0.jar\"\n",
    "val dpFile = System.getProperty(\"java.io.tmpdir\") ++ \"/differentialprivacy-1.0.jar\"\n",
    "FileUtils.copyURLToFile(new URL(dpUrl), new File(dpFile))\n",
    "%classpath add dynamic dpFile\n",
    "\n",
    "\n",
    "import java.io._\n",
    "import collection.JavaConverters._\n",
    "import com.github.tototoshi.csv._\n",
    "\n",
    "import com.google.privacy.differentialprivacy._"
   ]
  },
  {
   "cell_type": "markdown",
   "metadata": {},
   "source": [
    "First we load the carrots data from a CSV file:"
   ]
  },
  {
   "cell_type": "code",
   "execution_count": 2,
   "metadata": {},
   "outputs": [
    {
     "data": {
      "text/plain": [
       "[1.0, 88.0, 35.0, 99.0, 69.0, 14.0, 77.0, 53.0, 94.0, 67.0, 92.0, 87.0, 70.0, 31.0, 14.0, 14.0, 61.0, 57.0, 68.0, 13.0, 21.0, 38.0, 92.0, 39.0, 46.0, 36.0, 23.0, 76.0, 8.0, 69.0, 35.0, 83.0, 40.0, 74.0, 17.0, 77.0, 52.0, 31.0, 14.0, 40.0, 46.0, 99.0, 44.0, 15.0, 89.0, 36.0, 98.0, 20.0, 56.0, 90.0, 5.0, 75.0, 56.0, 23.0, 49.0, 83.0, 55.0, 22.0, 7.0, 16.0, 91.0, 80.0, 21.0, 56.0, 10.0, 28.0, 29.0, 19.0, 73.0, 45.0, 5.0, 20.0, 28.0, 45.0, 39.0, 64.0, 22.0, 7.0, 30.0, 10.0, 48.0, 60.0, 73.0, 82.0, 96.0, 82.0, 38.0, 84.0, 39.0, 12.0, 75.0, 75.0, 45.0, 87.0, 91.0, 33.0, 40.0, 0.0, 67.0, 63.0, 16.0, 93.0, 19.0, 72.0, 46.0, 73.0, 98.0, 86.0, 3.0, 64.0, 94.0, 75.0, 2.0, 87.0, 74.0, 79.0, 56.0, 51.0, 77.0, 81.0, 42.0, 90.0, 96.0, 4.0, 58.0, 73.0, 27.0, 56.0, 80.0, 10.0, 35.0, 86.0, 100.0, 16.0, 7.0, 30.0, 84.0, 50.0, 86.0, 21.0, 15.0, 66.0, 75.0, 71.0, 56.0, 52.0, 99.0, 45.0, 84.0, 99.0, 51.0, 37.0, 96.0, 90.0, 92.0, 80.0, 96.0, 31.0, 39.0, 2.0, 68.0, 53.0, 47.0, 82.0, 51.0, 57.0, 10.0, 28.0, 91.0, 94.0, 51.0, 20.0, 87.0, 81.0, 36.0, 84.0, 54.0, 7.0, 42.0, 55.0, 60.0, 7.0]"
      ]
     },
     "execution_count": 2,
     "metadata": {},
     "output_type": "execute_result"
    }
   ],
   "source": [
    "val reader = CSVReader.open(new File(\"../animals_and_carrots.csv\"))\n",
    "\n",
    "// read numbers only (second column) and convert them to Double:\n",
    "val carrotsScalaData = reader.all().map(row => row(1).toDouble)\n",
    "\n",
    "reader.close()\n",
    "\n",
    "// convert Scala types to Java types:\n",
    "val carrotsData = carrotsScalaData.map{ i:Double => i:java.lang.Double }.asJava\n"
   ]
  },
  {
   "cell_type": "markdown",
   "metadata": {},
   "source": [
    "# Farmer Fred"
   ]
  },
  {
   "cell_type": "markdown",
   "metadata": {},
   "source": [
    "It is a new day. Farmer Fred is ready to ask the animals about their carrot consumption.\n",
    "\n",
    "Here's the initial value of privacy budget (epsilon) with some other settings:"
   ]
  },
  {
   "cell_type": "code",
   "execution_count": 3,
   "metadata": {},
   "outputs": [
    {
     "data": {
      "text/plain": [
       "1"
      ]
     },
     "execution_count": 3,
     "metadata": {},
     "output_type": "execute_result"
    }
   ],
   "source": [
    "var privacyBudget = 4.0  // we set a very high value here to improve accuracy on the small example dataset\n",
    "\n",
    "val queryEpsilon = 1.0  // default amount of privacy budget we use per query\n",
    "\n",
    "// Unlike the C++ library the Java version currently does not support privately inferred bounds so these have to be set manually\n",
    "val lowerBound = 0.0\n",
    "val upperBound = 100.0\n",
    "\n",
    "val maxPartitions = 1"
   ]
  },
  {
   "cell_type": "markdown",
   "metadata": {},
   "source": [
    "Farmer Fred asks the animals how many total carrots they have eaten. The animals know the true sum but report the differentially private sum to Farmer Fred. But first, they ensure that Farmer Fred still has privacy budget left."
   ]
  },
  {
   "cell_type": "code",
   "execution_count": 4,
   "metadata": {},
   "outputs": [
    {
     "name": "stdout",
     "output_type": "stream",
     "text": [
      "\n",
      "Privacy budget remaining: 4.00\n",
      "True sum: 9649.00\n",
      "DP sum: 9636.20\n"
     ]
    },
    {
     "data": {
      "text/plain": [
       "null"
      ]
     },
     "execution_count": 4,
     "metadata": {},
     "output_type": "execute_result"
    }
   ],
   "source": [
    "print(f\"\\nPrivacy budget remaining: $privacyBudget%.2f\\n\")\n",
    "val trueSum = carrotsScalaData.sum\n",
    "print(f\"True sum: $trueSum%.2f\\n\")\n",
    "\n",
    "if (privacyBudget >= queryEpsilon) {\n",
    "    privacyBudget -= queryEpsilon\n",
    "    val privateSum = BoundedSum.builder()\n",
    "                               .lower(lowerBound)\n",
    "                               .upper(upperBound)\n",
    "                               .maxPartitionsContributed(maxPartitions)\n",
    "                               .epsilon(queryEpsilon)\n",
    "                               .build()\n",
    "    privateSum.addEntries(carrotsData)\n",
    "    val sumResult = privateSum.computeResult()\n",
    "    print(f\"DP sum: $sumResult%.2f\\n\")\n",
    "} else\n",
    "    print(\"Not enough privacy budget left!\")"
   ]
  },
  {
   "cell_type": "markdown",
   "metadata": {},
   "source": [
    "Here Farmer Fred wants to know the total number of carrot eaters:"
   ]
  },
  {
   "cell_type": "code",
   "execution_count": 5,
   "metadata": {},
   "outputs": [
    {
     "name": "stdout",
     "output_type": "stream",
     "text": [
      "\n",
      "Privacy budget remaining: 3.00\n",
      "True count: 182\n",
      "DP count: 181\n"
     ]
    },
    {
     "data": {
      "text/plain": [
       "null"
      ]
     },
     "execution_count": 5,
     "metadata": {},
     "output_type": "execute_result"
    }
   ],
   "source": [
    "print(f\"\\nPrivacy budget remaining: $privacyBudget%.2f\\n\")\n",
    "val trueCount = carrotsData.size\n",
    "print(f\"True count: $trueCount%d\\n\")\n",
    "\n",
    "if (privacyBudget >= queryEpsilon) {\n",
    "    privacyBudget -= queryEpsilon\n",
    "    val privateCount = Count.builder()\n",
    "                            .maxPartitionsContributed(maxPartitions)\n",
    "                            .epsilon(queryEpsilon)\n",
    "                            .build()\n",
    "    privateCount.incrementBy(carrotsData.size)\n",
    "    val countResult = privateCount.computeResult()\n",
    "    print(f\"DP count: $countResult%d\\n\")\n",
    "} else\n",
    "    print(\"Not enough privacy budget left!\")\n"
   ]
  },
  {
   "cell_type": "markdown",
   "metadata": {},
   "source": [
    "If you rerun one of the previous cells a couple of times you will eventually see the privacy budget running out."
   ]
  },
  {
   "cell_type": "code",
   "execution_count": null,
   "metadata": {},
   "outputs": [],
   "source": []
  }
 ],
 "metadata": {
  "kernelspec": {
   "display_name": "Scala",
   "language": "scala",
   "name": "scala"
  },
  "language_info": {
   "codemirror_mode": "text/x-scala",
   "file_extension": ".scala",
   "mimetype": "",
   "name": "Scala",
   "nbconverter_exporter": "",
   "version": "2.11.12"
  },
  "toc": {
   "base_numbering": 1,
   "nav_menu": {},
   "number_sections": false,
   "sideBar": false,
   "skip_h1_title": false,
   "title_cell": "Table of Contents",
   "title_sidebar": "Contents",
   "toc_cell": false,
   "toc_position": {},
   "toc_section_display": false,
   "toc_window_display": false
  }
 },
 "nbformat": 4,
 "nbformat_minor": 4
}
